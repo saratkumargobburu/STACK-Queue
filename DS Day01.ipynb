{
 "cells": [
  {
   "cell_type": "code",
   "execution_count": 13,
   "id": "a758ce6b",
   "metadata": {},
   "outputs": [
    {
     "name": "stdout",
     "output_type": "stream",
     "text": [
      "enter the element4\n",
      "[2, 3, 4]\n",
      "enter the element5\n",
      "[2, 3, 4, 5]\n",
      "enter the element6\n",
      "[2, 3, 4, 5, 6]\n",
      "[2, 3, 4, 5]\n",
      "[2, 3, 4]\n",
      "enter the element5\n",
      "[2, 3, 4, 5]\n",
      "the operations only performed when there is a valid operation\n",
      "There is no such operation in stack!!!!\n"
     ]
    }
   ],
   "source": [
    "#stack data structure\n",
    "class stack:\n",
    "    def __init__(self,stck,operation):\n",
    "        self.op=operation\n",
    "        self.stck=stck\n",
    "    def operation(self):\n",
    "        Maxsize=5\n",
    "        if self.op==\"Push\":\n",
    "            if len(self.stck)==Maxsize:\n",
    "                print(\"OverFlow\")\n",
    "            else:\n",
    "                ele=int(input(\"enter the element\"))\n",
    "                self.stck.append(ele)\n",
    "            print(self.stck)\n",
    "        elif self.op==\"Pop\":\n",
    "            if len(self.stck)==0:\n",
    "                print(\"UnderFlow\")\n",
    "            else:\n",
    "                self.stck.pop()\n",
    "            print(self.stck)\n",
    "        else:\n",
    "            print(\"There is no such operation in stack!!!!\")\n",
    "li=[2,3]\n",
    "s=stack(li,\"Push\")\n",
    "s.operation()\n",
    "s=stack(li,\"Push\")\n",
    "s.operation()\n",
    "s=stack(li,\"Push\")\n",
    "s.operation()\n",
    "s=stack(li,\"Pop\")\n",
    "s.operation()\n",
    "s=stack(li,\"Pop\")\n",
    "s.operation()\n",
    "s=stack(li,\"Push\")\n",
    "s.operation()\n",
    "print(\"the operations only performed when there is a valid operation\")\n",
    "s=stack(li,\"Sarat\")\n",
    "s.operation()\n",
    "                \n",
    "        \n",
    "        \n",
    "            \n",
    "            "
   ]
  },
  {
   "cell_type": "code",
   "execution_count": 21,
   "id": "171a1105",
   "metadata": {},
   "outputs": [
    {
     "name": "stdout",
     "output_type": "stream",
     "text": [
      "is stack empty <bound method stack.is_empty of <__main__.stack object at 0x0000028BFB3332B0>>\n",
      "9\n",
      "4\n",
      "5\n",
      "6\n",
      "size of stack is 5\n",
      "Elemented deleted 9\n",
      "After deleting\n",
      "4\n",
      "5\n",
      "6\n",
      "size 5\n"
     ]
    }
   ],
   "source": [
    "#stack opeartions\n",
    "class stack:\n",
    "    def __init__(self,max_size):\n",
    "        self.__max_size = max_size\n",
    "        self._elements=[None]*self.__max_size\n",
    "        self.__top=-1\n",
    "    def  is_full(self):\n",
    "        if(self.__top==self.__max_size-1):\n",
    "            return True\n",
    "        return False\n",
    "    def is_empty(self):\n",
    "        if(self.__top==-1):\n",
    "            return True\n",
    "        return False\n",
    "    def push(self,data):\n",
    "        if(self.is_full()):\n",
    "            print(\"stack is full\")\n",
    "        else:\n",
    "            self.__top+=1\n",
    "            self._elements[self.__top]=data\n",
    "    def pop(self):\n",
    "        if(self.is_empty()):\n",
    "            print(\"stack is empty\")\n",
    "        else:\n",
    "            data=self._elements[self.__top]\n",
    "            self.__top-=1\n",
    "            return data\n",
    "    def display(self):\n",
    "        if(self.is_empty()):\n",
    "            print(\"stack is empty\")\n",
    "        else:\n",
    "            index=self.__top\n",
    "            while(index>=0):\n",
    "                print(self._elements[index])\n",
    "                index-=1\n",
    "    def get_max_size(self):\n",
    "        return self.__max_size\n",
    "\n",
    "stk = stack(5)\n",
    "print(\"is stack empty\",stk.is_empty)\n",
    "stk.push(6)\n",
    "stk.push(5)\n",
    "stk.push(4)\n",
    "stk.push(9)\n",
    "stk.display()\n",
    "print(\"size of stack is\",stk.get_max_size())\n",
    "print(\"Elemented deleted\",stk.pop())\n",
    "print(\"After deleting\")\n",
    "stk.display()\n",
    "print(\"size\",stk.get_max_size())"
   ]
  },
  {
   "cell_type": "code",
   "execution_count": 28,
   "id": "73b5649d",
   "metadata": {},
   "outputs": [
    {
     "name": "stdout",
     "output_type": "stream",
     "text": [
      "Queue is full True\n",
      "is empty False\n",
      "Queue is full\n",
      "Queue is full\n",
      "Queue is full\n",
      "Queue is full\n",
      "Queue is full\n"
     ]
    }
   ],
   "source": [
    "class queue:\n",
    "    def __init__(self,max_size):\n",
    "        self.__max_size = max_size\n",
    "        self.__elements = [None] * self.__max_size\n",
    "        self.__rear = -1\n",
    "        self.__front = 0\n",
    "    \n",
    "    def is_full(self):\n",
    "        if(self.__rear==self.__max_size-1):\n",
    "            return False\n",
    "        return True\n",
    "    \n",
    "    def is_empty(self):\n",
    "        if(self.__front>self.__rear):\n",
    "            return False\n",
    "        return True\n",
    "    \n",
    "    def enqueue(self,data):\n",
    "        if(self.is_full()):\n",
    "            print(\"Queue is full\")\n",
    "        else:\n",
    "            data = self._elements[self.__front]\n",
    "            self.__front+=1\n",
    "            return data\n",
    "    \n",
    "    def display(self):\n",
    "        for index in range(self.__front,self.__rear+1):\n",
    "            print(self.__elements[index])\n",
    "    def get_max_size(self):\n",
    "        return self.__max_size\n",
    "que = queue(4)\n",
    "print(\"Queue is full\",que.is_full())\n",
    "print(\"is empty\",que.is_empty())\n",
    "que.enqueue(100)\n",
    "que.display()\n",
    "que.enqueue(200)\n",
    "que.enqueue(300)\n",
    "que.enqueue(400)\n",
    "que.enqueue(500)\n",
    "que.display()\n"
   ]
  },
  {
   "cell_type": "code",
   "execution_count": 34,
   "id": "cb5628f4",
   "metadata": {},
   "outputs": [
    {
     "data": {
      "text/plain": [
       "[10080, 2520]"
      ]
     },
     "execution_count": 34,
     "metadata": {},
     "output_type": "execute_result"
    }
   ],
   "source": [
    "#evenly divisble of the number\n",
    "def is_evenly_divisible(num):\n",
    "    for i in range(1, 11):\n",
    "        if num % i != 0:\n",
    "            return False\n",
    "    return True\n",
    "\n",
    "def get_evenly_divisible_queue(queue):\n",
    "    result_queue = []\n",
    "    for num in queue:\n",
    "        if is_evenly_divisible(num):\n",
    "            result_queue.append(num)\n",
    "    return result_queue\n",
    "que=[13983,10080,7113,2520,2500]\n",
    "get_evenly_divisible_queue(que)"
   ]
  },
  {
   "cell_type": "code",
   "execution_count": null,
   "id": "d818ea21",
   "metadata": {},
   "outputs": [],
   "source": []
  }
 ],
 "metadata": {
  "kernelspec": {
   "display_name": "Python 3 (ipykernel)",
   "language": "python",
   "name": "python3"
  },
  "language_info": {
   "codemirror_mode": {
    "name": "ipython",
    "version": 3
   },
   "file_extension": ".py",
   "mimetype": "text/x-python",
   "name": "python",
   "nbconvert_exporter": "python",
   "pygments_lexer": "ipython3",
   "version": "3.9.7"
  }
 },
 "nbformat": 4,
 "nbformat_minor": 5
}
